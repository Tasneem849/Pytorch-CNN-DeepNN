{
 "cells": [
  {
   "cell_type": "code",
   "execution_count": 1,
   "id": "c2794b91-d4e7-483e-8d7f-d1036801d7ac",
   "metadata": {},
   "outputs": [],
   "source": [
    "import torch, torchvision\n",
    "import torch.nn.functional as ff\n",
    "import torch.nn as nn\n",
    "import torchvision.datasets as datasets\n",
    "import torchvision.transforms as transforms\n",
    "from torch.utils.data import DataLoader\n",
    "from torch import optim\n",
    "\n",
    "import numpy as np\n",
    "import matplotlib.pyplot as plt\n",
    "from time import time"
   ]
  },
  {
   "cell_type": "code",
   "execution_count": 2,
   "id": "a6aaa09e-0b3e-460d-9730-ada18fb406b9",
   "metadata": {},
   "outputs": [],
   "source": [
    "#Configuration & Loading MNIST:\n",
    "batch_size = 10\n",
    "\n",
    "transform_src = transforms.Compose([transforms.ToTensor(), transforms.Normalize((0,), (1,)),])    #zero mean, unit variance\n",
    "\n",
    "training_set = datasets.MNIST('./data/', train=True, download=True, transform=transform_src)\n",
    "training_loader = torch.utils.data.DataLoader(training_set, batch_size=batch_size, shuffle=True)\n",
    "\n",
    "testing_set = datasets.MNIST('./data/', train=False, download=True, transform=transform_src)\n",
    "testing_loader = torch.utils.data.DataLoader(testing_set, batch_size=batch_size, shuffle=True)"
   ]
  },
  {
   "cell_type": "code",
   "execution_count": 3,
   "id": "9297e2dd-663f-40a3-856f-ca174ddc1112",
   "metadata": {},
   "outputs": [],
   "source": [
    "#Building the model:\n",
    "class NeuralNetwork(nn.Module):\n",
    "    def __init__(self):\n",
    "        super(NeuralNetwork, self).__init__()\n",
    "        self.linear1 = nn.Linear(28*28, 100)\n",
    "        self.linear2 = nn.Linear(100, 50)\n",
    "        self.output = nn.Linear(50, 10)\n",
    "        self.relu = nn.ReLU()\n",
    "        self.softmax = nn.Softmax(dim=1)\n",
    "\n",
    "    def forward(self, img):\n",
    "        x = img.view(-1, 28*28)        #Flatten\n",
    "        x = self.relu(self.linear1(x))\n",
    "        x = self.relu(self.linear2(x))\n",
    "        x = self.softmax(self.output(x))\n",
    "        return x\n",
    "\n",
    "net_1 = NeuralNetwork()"
   ]
  },
  {
   "cell_type": "code",
   "execution_count": 4,
   "id": "fd357514-5693-49ca-a578-e920928b4bc0",
   "metadata": {},
   "outputs": [
    {
     "name": "stdout",
     "output_type": "stream",
     "text": [
      "NeuralNetwork(\n",
      "  (linear1): Linear(in_features=784, out_features=100, bias=True)\n",
      "  (linear2): Linear(in_features=100, out_features=50, bias=True)\n",
      "  (output): Linear(in_features=50, out_features=10, bias=True)\n",
      "  (relu): ReLU()\n",
      "  (softmax): Softmax(dim=1)\n",
      ")\n"
     ]
    }
   ],
   "source": [
    "print(net_1)"
   ]
  },
  {
   "cell_type": "code",
   "execution_count": 5,
   "id": "52debaaa-0a18-4078-9dc6-e7f0d0283638",
   "metadata": {},
   "outputs": [
    {
     "name": "stdout",
     "output_type": "stream",
     "text": [
      "Epoch 0 - Training loss: 1.678286444048087\n",
      "Epoch 1 - Training loss: 1.5597934387922288\n",
      "Epoch 2 - Training loss: 1.544635257502397\n",
      "Epoch 3 - Training loss: 1.5360886354645094\n",
      "Epoch 4 - Training loss: 1.5293277952273687\n",
      "Epoch 5 - Training loss: 1.5239949468572935\n",
      "Epoch 6 - Training loss: 1.5195437143643697\n",
      "Epoch 7 - Training loss: 1.5158472786744435\n",
      "Epoch 8 - Training loss: 1.5125731203754742\n",
      "Epoch 9 - Training loss: 1.5092497727473577\n",
      "Epoch 10 - Training loss: 1.5065526436169943\n",
      "Epoch 11 - Training loss: 1.5041613326271375\n",
      "Epoch 12 - Training loss: 1.5020484493970871\n",
      "Epoch 13 - Training loss: 1.5000432336131733\n",
      "Epoch 14 - Training loss: 1.4982725945512454\n",
      "\n",
      "Training Time (in minutes) = 14.668066187699635\n"
     ]
    }
   ],
   "source": [
    "#Training moel:\n",
    "cross_loss = nn.CrossEntropyLoss()\n",
    "optimizer = optim.Adam(net_1.parameters(), lr=0.0001)\n",
    "time0 = time()\n",
    "epochs = 15\n",
    "training_loss = []\n",
    "\n",
    "for epoch in range(epochs):\n",
    "    step_loss = []\n",
    "    net_1.train()\n",
    "    running_loss = 0\n",
    "    for data in training_loader:\n",
    "        x, y = data\n",
    "        y_hot = ff.one_hot(y, num_classes=10) \n",
    "        optimizer.zero_grad()\n",
    "        output = net_1(x.view(-1, 28*28))\n",
    "        loss = cross_loss(output, y_hot.float())\n",
    "        loss.backward()\n",
    "        optimizer.step()\n",
    "        running_loss += loss.item()  \n",
    "        step_loss.append(loss.item())\n",
    "    else:\n",
    "        print(\"Epoch {} - Training loss: {}\".format(epoch, running_loss/len(training_loader)))\n",
    "        training_loss.append(np.array(step_loss).mean())\n",
    "print(\"\\nTraining Time (in minutes) =\",(time()-time0)/60)"
   ]
  },
  {
   "cell_type": "code",
   "execution_count": 6,
   "id": "22e5b9ef-acf2-4438-8416-b3fbacf692de",
   "metadata": {},
   "outputs": [],
   "source": [
    "#Testing the model:\n",
    "def test(model, test_loader):\n",
    "    model.eval()\n",
    "    test_loss = 0\n",
    "    correct = 0\n",
    "    time00 = time()\n",
    "    loss = nn.CrossEntropyLoss()\n",
    "    with torch.no_grad():\n",
    "        for data, target in test_loader:\n",
    "            output = model(data)\n",
    "            test_loss += loss(output, target).item()    #sum up batch loss\n",
    "            pred = output.argmax(1, keepdim=True)        #get the index of the max log-probability \n",
    "            correct += pred.eq(target.view_as(pred)).sum().item()\n",
    "\n",
    "    test_loss /= len(test_loader.dataset)\n",
    "\n",
    "    print('\\nTest set: Accuracy: {}/{} ({:.0f}%)\\n'.format(\n",
    "         correct, len(test_loader.dataset),\n",
    "        100. * correct / len(test_loader.dataset)))\n",
    "    print(\"\\nTesting Time (in seconds) =\",(time()-time00))"
   ]
  },
  {
   "cell_type": "code",
   "execution_count": 8,
   "id": "71d12c79-bc69-40a8-86a1-f16a8b417c93",
   "metadata": {},
   "outputs": [
    {
     "name": "stdout",
     "output_type": "stream",
     "text": [
      "\n",
      "Test set: Accuracy: 9606/10000 (96%)\n",
      "\n",
      "\n",
      "Testing Time (in seconds) = 3.2926383018493652\n"
     ]
    }
   ],
   "source": [
    "test(net_1, testing_loader)"
   ]
  },
  {
   "cell_type": "code",
   "execution_count": 10,
   "id": "d5c85458-b754-42f4-b6f7-7955d4865e8f",
   "metadata": {},
   "outputs": [
    {
     "data": {
      "text/plain": [
       "<function matplotlib.pyplot.show(close=None, block=None)>"
      ]
     },
     "execution_count": 10,
     "metadata": {},
     "output_type": "execute_result"
    },
    {
     "data": {
      "image/png": "[encoded data removed]",
      "text/plain": [
       "<Figure size 640x480 with 1 Axes>"
      ]
     },
     "metadata": {},
     "output_type": "display_data"
    }
   ],
   "source": [
    "#plotting:\n",
    "plt.plot(training_loss, label='training_loss', color='r')\n",
    "plt.xlabel('Epochs')\n",
    "plt.ylabel('Loss')\n",
    "plt.xlim(0, 15)\n",
    "plt.legend()\n",
    "plt.grid(True)\n",
    "plt.show"
   ]
  },
  {
   "cell_type": "code",
   "execution_count": null,
   "id": "22c8a200-cedc-426c-9831-27c5d44233c9",
   "metadata": {},
   "outputs": [],
   "source": []
  }
 ],
 "metadata": {
  "kernelspec": {
   "display_name": "Python 3 (ipykernel)",
   "language": "python",
   "name": "python3"
  },
  "language_info": {
   "codemirror_mode": {
    "name": "ipython",
    "version": 3
   },
   "file_extension": ".py",
   "mimetype": "text/x-python",
   "name": "python",
   "nbconvert_exporter": "python",
   "pygments_lexer": "ipython3",
   "version": "3.11.3"
  }
 },
 "nbformat": 4,
 "nbformat_minor": 5
}
