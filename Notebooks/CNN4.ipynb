{
 "cells": [
  {
   "cell_type": "code",
   "execution_count": 1,
   "id": "089f2025-4a98-4dca-b734-773075f0cd6c",
   "metadata": {},
   "outputs": [],
   "source": [
    "import torch, torchvision\n",
    "import torch.nn.functional as ff\n",
    "import torch.nn as nn\n",
    "import torchvision.datasets as datasets\n",
    "import torchvision.transforms as transforms\n",
    "from torch.utils.data import DataLoader\n",
    "from torch import optim\n",
    "import numpy as np\n",
    "import matplotlib.pyplot as plt\n",
    "from time import time"
   ]
  },
  {
   "cell_type": "code",
   "execution_count": 2,
   "id": "9e9efb4e-b4b3-41a2-9c27-aa08333c0b0e",
   "metadata": {},
   "outputs": [],
   "source": [
    "#Configuration & Loading MNIST:\n",
    "batch_size = 20\n",
    "\n",
    "transform_src = transforms.Compose([transforms.ToTensor(), transforms.Normalize((0,), (1,)),])    #zero mean, unit variance\n",
    "\n",
    "training_set = datasets.MNIST('./data/', train=True, download=True, transform=transform_src)\n",
    "training_loader = torch.utils.data.DataLoader(training_set, batch_size=batch_size, shuffle=True)\n",
    "\n",
    "testing_set = datasets.MNIST('./data/', train=False, download=True, transform=transform_src)\n",
    "testing_loader = torch.utils.data.DataLoader(testing_set, batch_size=batch_size, shuffle=True)"
   ]
  },
  {
   "cell_type": "code",
   "execution_count": 3,
   "id": "f29e46b2-b3f7-4893-a5b9-08d680c42ea3",
   "metadata": {},
   "outputs": [],
   "source": [
    "#Building the model:\n",
    "class ConvNetwork(nn.Module):\n",
    "    def __init__(self):\n",
    "        super(ConvNetwork, self).__init__()\n",
    "        self.conv1 = nn.Conv2d(in_channels=1, out_channels=16, kernel_size=3, stride=1, padding=1)\n",
    "        self.conv2 = nn.Conv2d(in_channels=16, out_channels=32, kernel_size=3, stride=1, padding=1)\n",
    "\n",
    "        self.conv3 = nn.Conv2d(in_channels=32, out_channels=64, kernel_size=3, stride=1, padding=1)\n",
    "        self.conv4 = nn.Conv2d(in_channels=64, out_channels=128, kernel_size=3, stride=1, padding=1)\n",
    "        \n",
    "        self.maxpool = nn.MaxPool2d(2,2)\n",
    "\n",
    "        self.drop = nn.Dropout(0.25)\n",
    "        \n",
    "        self.fc1 = nn.Linear(784, 32)\n",
    "        self.fc2 = nn.Linear(32, 10)\n",
    "        \n",
    "        self.relu = nn.ReLU()\n",
    "        self.leaky_relu = nn.LeakyReLU()\n",
    "        self.softmax = nn.Softmax(dim=1)\n",
    "\n",
    "    def forward(self, img):\n",
    "        x = self.relu(self.conv1(img))\n",
    "        x = self.relu(self.conv2(x)) \n",
    "        x = self.maxpool(x)\n",
    "        x = self.drop(x)\n",
    "\n",
    "        x = self.relu(self.conv3(x))\n",
    "        x = self.relu(self.conv4(x))\n",
    "        x = self.maxpool(x)\n",
    "        x = self.drop(x)\n",
    "        \n",
    "        x = img.view(x.size(0), -1)        #Flatten\n",
    "        x = self.relu(self.fc1(x))\n",
    "        x = self.drop(x)\n",
    "        x = self.relu(self.fc2(x))\n",
    "        x = self.softmax(x)\n",
    "        return x\n",
    "\n",
    "net = ConvNetwork()"
   ]
  },
  {
   "cell_type": "code",
   "execution_count": 4,
   "id": "9e145d92-42d6-4373-8c13-57af10502cf8",
   "metadata": {},
   "outputs": [
    {
     "name": "stdout",
     "output_type": "stream",
     "text": [
      "ConvNetwork(\n",
      "  (conv1): Conv2d(1, 16, kernel_size=(3, 3), stride=(1, 1), padding=(1, 1))\n",
      "  (conv2): Conv2d(16, 32, kernel_size=(3, 3), stride=(1, 1), padding=(1, 1))\n",
      "  (conv3): Conv2d(32, 64, kernel_size=(3, 3), stride=(1, 1), padding=(1, 1))\n",
      "  (conv4): Conv2d(64, 128, kernel_size=(3, 3), stride=(1, 1), padding=(1, 1))\n",
      "  (maxpool): MaxPool2d(kernel_size=2, stride=2, padding=0, dilation=1, ceil_mode=False)\n",
      "  (drop): Dropout(p=0.25, inplace=False)\n",
      "  (fc1): Linear(in_features=784, out_features=32, bias=True)\n",
      "  (fc2): Linear(in_features=32, out_features=10, bias=True)\n",
      "  (relu): ReLU()\n",
      "  (leaky_relu): LeakyReLU(negative_slope=0.01)\n",
      "  (softmax): Softmax(dim=1)\n",
      ")\n"
     ]
    }
   ],
   "source": [
    "print(net)"
   ]
  },
  {
   "cell_type": "code",
   "execution_count": 5,
   "id": "47745a95-d943-4736-bf0f-663b45639b77",
   "metadata": {},
   "outputs": [
    {
     "name": "stdout",
     "output_type": "stream",
     "text": [
      "Epoch 0 - Training loss: 2.037868060072263\n",
      "Epoch 1 - Training loss: 1.8953118424018225\n",
      "Epoch 2 - Training loss: 1.8439098089138666\n",
      "Epoch 3 - Training loss: 1.7958259309530258\n",
      "Epoch 4 - Training loss: 1.7590111271937687\n",
      "Epoch 5 - Training loss: 1.7475062317450842\n",
      "Epoch 6 - Training loss: 1.7401402361392975\n",
      "Epoch 7 - Training loss: 1.734981418689092\n",
      "Epoch 8 - Training loss: 1.7310632025400798\n",
      "Epoch 9 - Training loss: 1.7271895480155945\n",
      "Epoch 10 - Training loss: 1.7246968974669774\n",
      "Epoch 11 - Training loss: 1.7225904551347098\n",
      "Epoch 12 - Training loss: 1.7194843015670775\n",
      "Epoch 13 - Training loss: 1.717911062081655\n",
      "Epoch 14 - Training loss: 1.7156969537734985\n",
      "Epoch 15 - Training loss: 1.7133571644624075\n",
      "Epoch 16 - Training loss: 1.7127070597012837\n",
      "Epoch 17 - Training loss: 1.711055784145991\n",
      "Epoch 18 - Training loss: 1.708871782064438\n",
      "Epoch 19 - Training loss: 1.7083798082272212\n",
      "Epoch 20 - Training loss: 1.7068174517552057\n",
      "Epoch 21 - Training loss: 1.705331088701884\n",
      "Epoch 22 - Training loss: 1.7046128743489584\n",
      "Epoch 23 - Training loss: 1.704193216085434\n",
      "Epoch 24 - Training loss: 1.7025226004123688\n",
      "Epoch 25 - Training loss: 1.7019006651242574\n",
      "Epoch 26 - Training loss: 1.7013375011285146\n",
      "Epoch 27 - Training loss: 1.7001592259407043\n",
      "Epoch 28 - Training loss: 1.6982789915005365\n",
      "Epoch 29 - Training loss: 1.699217690706253\n",
      "Epoch 30 - Training loss: 1.6985911226669947\n",
      "Epoch 31 - Training loss: 1.6971921844482423\n",
      "Epoch 32 - Training loss: 1.696980308453242\n",
      "Epoch 33 - Training loss: 1.6956794383923213\n",
      "Epoch 34 - Training loss: 1.6958682021299998\n",
      "Epoch 35 - Training loss: 1.695650502403577\n",
      "Epoch 36 - Training loss: 1.6946433403491974\n",
      "Epoch 37 - Training loss: 1.6939796833197276\n",
      "Epoch 38 - Training loss: 1.693523541490237\n",
      "Epoch 39 - Training loss: 1.6927815405925115\n",
      "\n",
      "Training Time (in minutes) = 72.68536915381749\n"
     ]
    }
   ],
   "source": [
    "#Training the model:\n",
    "cross_loss = nn.CrossEntropyLoss()\n",
    "optimizer = optim.Adam(net.parameters(), lr=0.0001)\n",
    "time0 = time()\n",
    "epochs = 40\n",
    "training_loss = []\n",
    "\n",
    "for epoch in range(epochs):\n",
    "    step_loss = []\n",
    "    net.train()\n",
    "    running_loss = 0\n",
    "    for data in training_loader:\n",
    "        x, y = data\n",
    "        y_hot = ff.one_hot(y, num_classes=10) \n",
    "        optimizer.zero_grad()\n",
    "        output = net(x)\n",
    "        loss = cross_loss(output, y_hot.float())\n",
    "        loss.backward()\n",
    "        optimizer.step()\n",
    "        running_loss += loss.item()  \n",
    "        step_loss.append(loss.item())\n",
    "    else:\n",
    "        print(\"Epoch {} - Training loss: {}\".format(epoch, running_loss/len(training_loader)))\n",
    "        training_loss.append(np.array(step_loss).mean())\n",
    "print(\"\\nTraining Time (in minutes) =\",(time()-time0)/60)"
   ]
  },
  {
   "cell_type": "code",
   "execution_count": 6,
   "id": "3ef817a2-3263-4aa4-bb62-fa0e1d59c5e4",
   "metadata": {},
   "outputs": [],
   "source": [
    "#Testing the model:\n",
    "def test(model, test_loader):\n",
    "    model.eval()\n",
    "    test_loss = 0\n",
    "    correct = 0\n",
    "    time00 = time()\n",
    "    loss = nn.CrossEntropyLoss()\n",
    "    with torch.no_grad():\n",
    "        for data, target in test_loader:\n",
    "            output = model(data)\n",
    "            test_loss += loss(output, target).item()    #sum up batch loss\n",
    "            pred = output.argmax(1, keepdim=True)        #get the index of the max log-probability \n",
    "            correct += pred.eq(target.view_as(pred)).sum().item()\n",
    "\n",
    "    test_loss /= len(test_loader.dataset)\n",
    "\n",
    "    print('\\nTest set: Accuracy: {}/{} ({:.0f}%)\\n'.format(\n",
    "         correct, len(test_loader.dataset),\n",
    "        100. * correct / len(test_loader.dataset)))\n",
    "    print(\"\\nTesting Time (in seconds) =\",(time()-time00))"
   ]
  },
  {
   "cell_type": "code",
   "execution_count": 7,
   "id": "5916c923-f657-4784-ac60-283bd738775d",
   "metadata": {},
   "outputs": [
    {
     "name": "stdout",
     "output_type": "stream",
     "text": [
      "\n",
      "Test set: Accuracy: 7536/10000 (75%)\n",
      "\n",
      "\n",
      "Testing Time (in seconds) = 16.448195934295654\n"
     ]
    }
   ],
   "source": [
    "test(net, testing_loader)"
   ]
  },
  {
   "cell_type": "code",
   "execution_count": 9,
   "id": "b3451bf8-2e05-4ccb-be56-88b9a6e08e95",
   "metadata": {},
   "outputs": [
    {
     "data": {
      "text/plain": [
       "<function matplotlib.pyplot.show(close=None, block=None)>"
      ]
     },
     "execution_count": 9,
     "metadata": {},
     "output_type": "execute_result"
    },
    {
     "data": {
      "image/png": "[encoded data removed]",
      "text/plain": [
       "<Figure size 640x480 with 1 Axes>"
      ]
     },
     "metadata": {},
     "output_type": "display_data"
    }
   ],
   "source": [
    "#Plotting:\n",
    "plt.plot(training_loss, label='training_loss', color='r')\n",
    "plt.xlabel('Epochs')\n",
    "plt.ylabel('Loss')\n",
    "plt.xlim(0, 40)\n",
    "plt.legend()\n",
    "plt.grid(True)\n",
    "plt.show"
   ]
  },
  {
   "cell_type": "code",
   "execution_count": null,
   "id": "38691e81-d8ba-46cd-80a2-507c6f75cd79",
   "metadata": {},
   "outputs": [],
   "source": []
  }
 ],
 "metadata": {
  "kernelspec": {
   "display_name": "Python 3 (ipykernel)",
   "language": "python",
   "name": "python3"
  },
  "language_info": {
   "codemirror_mode": {
    "name": "ipython",
    "version": 3
   },
   "file_extension": ".py",
   "mimetype": "text/x-python",
   "name": "python",
   "nbconvert_exporter": "python",
   "pygments_lexer": "ipython3",
   "version": "3.11.3"
  }
 },
 "nbformat": 4,
 "nbformat_minor": 5
}
