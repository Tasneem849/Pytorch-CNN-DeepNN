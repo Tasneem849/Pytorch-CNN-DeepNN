{
 "cells": [
  {
   "cell_type": "code",
   "execution_count": 1,
   "id": "089f2025-4a98-4dca-b734-773075f0cd6c",
   "metadata": {},
   "outputs": [],
   "source": [
    "import torch, torchvision\n",
    "import torch.nn.functional as ff\n",
    "import torch.nn as nn\n",
    "import torchvision.datasets as datasets\n",
    "import torchvision.transforms as transforms\n",
    "from torch.utils.data import DataLoader\n",
    "from torch import optim\n",
    "import numpy as np\n",
    "import matplotlib.pyplot as plt\n",
    "from time import time"
   ]
  },
  {
   "cell_type": "code",
   "execution_count": 2,
   "id": "9e9efb4e-b4b3-41a2-9c27-aa08333c0b0e",
   "metadata": {},
   "outputs": [],
   "source": [
    "#Configuration & Loading MNIST:\n",
    "batch_size = 20\n",
    "\n",
    "transform_src = transforms.Compose([transforms.ToTensor(), transforms.Normalize((0,), (1,)),])    #zero mean, unit variance\n",
    "\n",
    "training_set = datasets.MNIST('./data/', train=True, download=True, transform=transform_src)\n",
    "training_loader = torch.utils.data.DataLoader(training_set, batch_size=batch_size, shuffle=True)\n",
    "\n",
    "testing_set = datasets.MNIST('./data/', train=False, download=True, transform=transform_src)\n",
    "testing_loader = torch.utils.data.DataLoader(testing_set, batch_size=batch_size, shuffle=True)"
   ]
  },
  {
   "cell_type": "code",
   "execution_count": 3,
   "id": "f29e46b2-b3f7-4893-a5b9-08d680c42ea3",
   "metadata": {},
   "outputs": [],
   "source": [
    "#Building the model:\n",
    "class ConvNetwork(nn.Module):\n",
    "    def __init__(self):\n",
    "        super(ConvNetwork, self).__init__()\n",
    "        self.conv1 = nn.Conv2d(in_channels=1, out_channels=6, kernel_size=3, stride=1, padding=1)\n",
    "        self.conv2 = nn.Conv2d(in_channels=6, out_channels=10, kernel_size=3, stride=1, padding=1)\n",
    "\n",
    "        self.conv3 = nn.Conv2d(in_channels=10, out_channels=20, kernel_size=3, stride=1, padding=1)\n",
    "        self.conv4 = nn.Conv2d(in_channels=20, out_channels=50, kernel_size=3, stride=1, padding=1)\n",
    "\n",
    "        self.conv5 = nn.Conv2d(in_channels=50, out_channels=100, kernel_size=3, stride=1, padding=1)\n",
    "        self.conv6 = nn.Conv2d(in_channels=100, out_channels=125, kernel_size=3, stride=1, padding=1)\n",
    "        \n",
    "        self.maxpool = nn.MaxPool2d(2,2)\n",
    "\n",
    "        self.fc1 = nn.Linear(784, 120)\n",
    "        self.fc2 = nn.Linear(120, 60)\n",
    "        self.fc3 = nn.Linear(60, 10)\n",
    "        \n",
    "        self.relu = nn.ReLU()\n",
    "        self.leaky_relu = nn.LeakyReLU()\n",
    "        self.softmax = nn.Softmax(dim=1)\n",
    "\n",
    "    def forward(self, img):\n",
    "        x = self.leaky_relu(self.conv1(img))\n",
    "        x = self.leaky_relu(self.conv2(x)) \n",
    "        x = self.maxpool(x)\n",
    "        x = self.leaky_relu(self.conv3(x))\n",
    "        x = self.leaky_relu(self.conv4(x))\n",
    "        x = self.maxpool(x)\n",
    "        x = self.leaky_relu(self.conv5(x))\n",
    "        x = self.leaky_relu(self.conv6(x))\n",
    "        x = self.maxpool(x)\n",
    "        x = img.view(x.size(0), -1)        #Flatten\n",
    "        x = self.leaky_relu(self.fc1(x))\n",
    "        x = self.leaky_relu(self.fc2(x))\n",
    "        x = self.leaky_relu(self.fc3(x))\n",
    "        x = self.softmax(x)\n",
    "        return x\n",
    "\n",
    "net = ConvNetwork()"
   ]
  },
  {
   "cell_type": "code",
   "execution_count": 4,
   "id": "9e145d92-42d6-4373-8c13-57af10502cf8",
   "metadata": {},
   "outputs": [
    {
     "name": "stdout",
     "output_type": "stream",
     "text": [
      "ConvNetwork(\n",
      "  (conv1): Conv2d(1, 6, kernel_size=(3, 3), stride=(1, 1), padding=(1, 1))\n",
      "  (conv2): Conv2d(6, 10, kernel_size=(3, 3), stride=(1, 1), padding=(1, 1))\n",
      "  (conv3): Conv2d(10, 20, kernel_size=(3, 3), stride=(1, 1), padding=(1, 1))\n",
      "  (conv4): Conv2d(20, 50, kernel_size=(3, 3), stride=(1, 1), padding=(1, 1))\n",
      "  (conv5): Conv2d(50, 100, kernel_size=(3, 3), stride=(1, 1), padding=(1, 1))\n",
      "  (conv6): Conv2d(100, 125, kernel_size=(3, 3), stride=(1, 1), padding=(1, 1))\n",
      "  (maxpool): MaxPool2d(kernel_size=2, stride=2, padding=0, dilation=1, ceil_mode=False)\n",
      "  (fc1): Linear(in_features=784, out_features=120, bias=True)\n",
      "  (fc2): Linear(in_features=120, out_features=60, bias=True)\n",
      "  (fc3): Linear(in_features=60, out_features=10, bias=True)\n",
      "  (relu): ReLU()\n",
      "  (leaky_relu): LeakyReLU(negative_slope=0.01)\n",
      "  (softmax): Softmax(dim=1)\n",
      ")\n"
     ]
    }
   ],
   "source": [
    "print(net)"
   ]
  },
  {
   "cell_type": "code",
   "execution_count": 5,
   "id": "47745a95-d943-4736-bf0f-663b45639b77",
   "metadata": {},
   "outputs": [
    {
     "name": "stdout",
     "output_type": "stream",
     "text": [
      "Epoch 0 - Training loss: 1.8711794887781144\n",
      "Epoch 1 - Training loss: 1.7501651027599971\n",
      "Epoch 2 - Training loss: 1.6745130256414413\n",
      "Epoch 3 - Training loss: 1.6298337604602178\n",
      "Epoch 4 - Training loss: 1.6204067570765812\n",
      "Epoch 5 - Training loss: 1.614150850256284\n",
      "Epoch 6 - Training loss: 1.6094498976071676\n",
      "Epoch 7 - Training loss: 1.6057109428246816\n",
      "Epoch 8 - Training loss: 1.602400163213412\n",
      "Epoch 9 - Training loss: 1.5995558758179347\n",
      "Epoch 10 - Training loss: 1.5971548404693603\n",
      "Epoch 11 - Training loss: 1.5948239408334097\n",
      "Epoch 12 - Training loss: 1.5927274810473124\n",
      "Epoch 13 - Training loss: 1.5910242460568746\n",
      "Epoch 14 - Training loss: 1.5891283467213313\n",
      "Epoch 15 - Training loss: 1.5876373668114345\n",
      "Epoch 16 - Training loss: 1.5863612584670386\n",
      "Epoch 17 - Training loss: 1.5849174231290817\n",
      "Epoch 18 - Training loss: 1.5836739050944646\n",
      "Epoch 19 - Training loss: 1.5497887889941533\n",
      "Epoch 20 - Training loss: 1.5066516617536545\n",
      "Epoch 21 - Training loss: 1.5014290229082108\n",
      "Epoch 22 - Training loss: 1.4979470820426941\n",
      "Epoch 23 - Training loss: 1.4951979363759358\n",
      "Epoch 24 - Training loss: 1.4931642426252365\n",
      "Epoch 25 - Training loss: 1.4916441739797592\n",
      "Epoch 26 - Training loss: 1.4899480874935787\n",
      "Epoch 27 - Training loss: 1.4885269525845846\n",
      "Epoch 28 - Training loss: 1.487309054573377\n",
      "Epoch 29 - Training loss: 1.4862446477015814\n",
      "Epoch 30 - Training loss: 1.4851517915328343\n",
      "Epoch 31 - Training loss: 1.4844123167991639\n",
      "Epoch 32 - Training loss: 1.4833187417984008\n",
      "Epoch 33 - Training loss: 1.482808075904846\n",
      "Epoch 34 - Training loss: 1.4819424358208975\n",
      "Epoch 35 - Training loss: 1.4811791678667068\n",
      "Epoch 36 - Training loss: 1.480487805724144\n",
      "Epoch 37 - Training loss: 1.4800569658279419\n",
      "Epoch 38 - Training loss: 1.4793657380739849\n",
      "Epoch 39 - Training loss: 1.4787827017307282\n",
      "Epoch 40 - Training loss: 1.4783676801919936\n",
      "Epoch 41 - Training loss: 1.4778148227532704\n",
      "Epoch 42 - Training loss: 1.4772559122244517\n",
      "Epoch 43 - Training loss: 1.4768508847554525\n",
      "Epoch 44 - Training loss: 1.476416918873787\n",
      "Epoch 45 - Training loss: 1.4761235672632853\n",
      "Epoch 46 - Training loss: 1.4757196434338888\n",
      "Epoch 47 - Training loss: 1.475495500644048\n",
      "Epoch 48 - Training loss: 1.475172701438268\n",
      "Epoch 49 - Training loss: 1.4748919849793116\n",
      "Epoch 50 - Training loss: 1.4745277299483617\n",
      "Epoch 51 - Training loss: 1.4741644465525945\n",
      "Epoch 52 - Training loss: 1.474004257718722\n",
      "Epoch 53 - Training loss: 1.4738642108837763\n",
      "Epoch 54 - Training loss: 1.4734750848213831\n",
      "Epoch 55 - Training loss: 1.4732398677666982\n",
      "Epoch 56 - Training loss: 1.4731056287288666\n",
      "Epoch 57 - Training loss: 1.4727984711726507\n",
      "Epoch 58 - Training loss: 1.4727707634766896\n",
      "Epoch 59 - Training loss: 1.4725600337982179\n",
      "Epoch 60 - Training loss: 1.4722405891815822\n",
      "Epoch 61 - Training loss: 1.472253061771393\n",
      "Epoch 62 - Training loss: 1.472091156244278\n",
      "Epoch 63 - Training loss: 1.4719612844785055\n",
      "Epoch 64 - Training loss: 1.4717555919488272\n",
      "Epoch 65 - Training loss: 1.4715801584720611\n",
      "Epoch 66 - Training loss: 1.4715156195163728\n",
      "Epoch 67 - Training loss: 1.4712812206347783\n",
      "Epoch 68 - Training loss: 1.471161840836207\n",
      "Epoch 69 - Training loss: 1.4709710457324983\n",
      "Epoch 70 - Training loss: 1.4708932148218155\n",
      "Epoch 71 - Training loss: 1.470705375989278\n",
      "Epoch 72 - Training loss: 1.4705986152092616\n",
      "Epoch 73 - Training loss: 1.4705809389352797\n",
      "Epoch 74 - Training loss: 1.4703867587248485\n",
      "Epoch 75 - Training loss: 1.470307964960734\n",
      "Epoch 76 - Training loss: 1.470171314716339\n",
      "Epoch 77 - Training loss: 1.470111666560173\n",
      "Epoch 78 - Training loss: 1.4698991007407507\n",
      "Epoch 79 - Training loss: 1.4699063868920008\n",
      "Epoch 80 - Training loss: 1.4699150690237681\n",
      "Epoch 81 - Training loss: 1.4697922250032425\n",
      "Epoch 82 - Training loss: 1.4697902928590774\n",
      "Epoch 83 - Training loss: 1.4697189933458965\n",
      "Epoch 84 - Training loss: 1.4696923607587815\n",
      "Epoch 85 - Training loss: 1.4695826948483786\n",
      "Epoch 86 - Training loss: 1.4695268896023432\n",
      "Epoch 87 - Training loss: 1.4694711460272472\n",
      "Epoch 88 - Training loss: 1.4694932007789612\n",
      "Epoch 89 - Training loss: 1.4693877197504044\n",
      "Epoch 90 - Training loss: 1.4692498106956482\n",
      "Epoch 91 - Training loss: 1.469353443702062\n",
      "Epoch 92 - Training loss: 1.4691142283678056\n",
      "Epoch 93 - Training loss: 1.4692067078351974\n",
      "Epoch 94 - Training loss: 1.4691013702948887\n",
      "Epoch 95 - Training loss: 1.4689850351810456\n",
      "Epoch 96 - Training loss: 1.4690530904531478\n",
      "Epoch 97 - Training loss: 1.4688891150156658\n",
      "Epoch 98 - Training loss: 1.468938036719958\n",
      "Epoch 99 - Training loss: 1.4688612147967022\n",
      "\n",
      "Training Time (in minutes) = 99.83015963633855\n"
     ]
    }
   ],
   "source": [
    "#Training the model:\n",
    "cross_loss = nn.CrossEntropyLoss()\n",
    "optimizer = optim.Adam(net.parameters(), lr=0.0001)\n",
    "time0 = time()\n",
    "epochs = 100\n",
    "training_loss = []\n",
    "\n",
    "for epoch in range(epochs):\n",
    "    step_loss = []\n",
    "    net.train()\n",
    "    running_loss = 0\n",
    "    for data in training_loader:\n",
    "        x, y = data\n",
    "        y_hot = ff.one_hot(y, num_classes=10) \n",
    "        optimizer.zero_grad()\n",
    "        output = net(x)\n",
    "        loss = cross_loss(output, y_hot.float())\n",
    "        loss.backward()\n",
    "        optimizer.step()\n",
    "        running_loss += loss.item()  \n",
    "        step_loss.append(loss.item())\n",
    "    else:\n",
    "        print(\"Epoch {} - Training loss: {}\".format(epoch, running_loss/len(training_loader)))\n",
    "        training_loss.append(np.array(step_loss).mean())\n",
    "print(\"\\nTraining Time (in minutes) =\",(time()-time0)/60)"
   ]
  },
  {
   "cell_type": "code",
   "execution_count": 6,
   "id": "3ef817a2-3263-4aa4-bb62-fa0e1d59c5e4",
   "metadata": {},
   "outputs": [],
   "source": [
    "#Testing the model:\n",
    "def test(model, test_loader):\n",
    "    model.eval()\n",
    "    test_loss = 0\n",
    "    correct = 0\n",
    "    time00 = time()\n",
    "    loss = nn.CrossEntropyLoss()\n",
    "    with torch.no_grad():\n",
    "        for data, target in test_loader:\n",
    "            output = model(data)\n",
    "            test_loss += loss(output, target).item()    #sum up batch loss\n",
    "            pred = output.argmax(1, keepdim=True)        #get the index of the max log-probability \n",
    "            correct += pred.eq(target.view_as(pred)).sum().item()\n",
    "\n",
    "    test_loss /= len(test_loader.dataset)\n",
    "\n",
    "    print('\\nTest set: Accuracy: {}/{} ({:.0f}%)\\n'.format(\n",
    "         correct, len(test_loader.dataset),\n",
    "        100. * correct / len(test_loader.dataset)))\n",
    "    print(\"\\nTesting Time (in seconds) =\",(time()-time00))"
   ]
  },
  {
   "cell_type": "code",
   "execution_count": 7,
   "id": "5916c923-f657-4784-ac60-283bd738775d",
   "metadata": {},
   "outputs": [
    {
     "name": "stdout",
     "output_type": "stream",
     "text": [
      "\n",
      "Test set: Accuracy: 9759/10000 (98%)\n",
      "\n",
      "\n",
      "Testing Time (in seconds) = 7.002691030502319\n"
     ]
    }
   ],
   "source": [
    "test(net, testing_loader)"
   ]
  },
  {
   "cell_type": "code",
   "execution_count": 9,
   "id": "b3451bf8-2e05-4ccb-be56-88b9a6e08e95",
   "metadata": {},
   "outputs": [
    {
     "data": {
      "text/plain": [
       "<function matplotlib.pyplot.show(close=None, block=None)>"
      ]
     },
     "execution_count": 9,
     "metadata": {},
     "output_type": "execute_result"
    },
    {
     "data": {
      "image/png": "[encoded data removed]",
      "text/plain": [
       "<Figure size 640x480 with 1 Axes>"
      ]
     },
     "metadata": {},
     "output_type": "display_data"
    }
   ],
   "source": [
    "#Plotting:\n",
    "plt.plot(training_loss, label='training_loss', color='r')\n",
    "plt.xlabel('Epochs')\n",
    "plt.ylabel('Loss')\n",
    "plt.xlim(0, 100)\n",
    "plt.legend()\n",
    "plt.grid(True)\n",
    "plt.show"
   ]
  },
  {
   "cell_type": "code",
   "execution_count": null,
   "id": "38691e81-d8ba-46cd-80a2-507c6f75cd79",
   "metadata": {},
   "outputs": [],
   "source": []
  }
 ],
 "metadata": {
  "kernelspec": {
   "display_name": "Python 3 (ipykernel)",
   "language": "python",
   "name": "python3"
  },
  "language_info": {
   "codemirror_mode": {
    "name": "ipython",
    "version": 3
   },
   "file_extension": ".py",
   "mimetype": "text/x-python",
   "name": "python",
   "nbconvert_exporter": "python",
   "pygments_lexer": "ipython3",
   "version": "3.11.3"
  }
 },
 "nbformat": 4,
 "nbformat_minor": 5
}
