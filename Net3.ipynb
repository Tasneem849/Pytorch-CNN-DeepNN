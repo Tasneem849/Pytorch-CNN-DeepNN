{
 "cells": [
  {
   "cell_type": "code",
   "execution_count": 1,
   "id": "a8d953e5-d388-4eab-871d-9028075d7ffa",
   "metadata": {},
   "outputs": [],
   "source": [
    "import torch, torchvision\n",
    "import torch.nn.functional as ff\n",
    "import torch.nn as nn\n",
    "import torchvision.datasets as datasets\n",
    "import torchvision.transforms as transforms\n",
    "from torch.utils.data import DataLoader\n",
    "from torch import optim\n",
    "import numpy as np\n",
    "import matplotlib.pyplot as plt\n",
    "from time import time"
   ]
  },
  {
   "cell_type": "code",
   "execution_count": 2,
   "id": "327174ae-cbf5-42fa-87a0-9d53b15bdfc4",
   "metadata": {},
   "outputs": [],
   "source": [
    "#Configuration & Loading MNIST:\n",
    "batch_size = 20\n",
    "\n",
    "transform_src = transforms.Compose([transforms.ToTensor(), transforms.Normalize((0,), (1,)),])    #zero mean, unit variance\n",
    "\n",
    "training_set = datasets.MNIST('./data/', train=True, download=True, transform=transform_src)\n",
    "training_loader = torch.utils.data.DataLoader(training_set, batch_size=batch_size, shuffle=True)\n",
    "\n",
    "testing_set = datasets.MNIST('./data/', train=False, download=True, transform=transform_src)\n",
    "testing_loader = torch.utils.data.DataLoader(testing_set, batch_size=batch_size, shuffle=True)"
   ]
  },
  {
   "cell_type": "code",
   "execution_count": 3,
   "id": "bf681ff5-7d05-485a-92db-5421f90cef99",
   "metadata": {},
   "outputs": [],
   "source": [
    "#Building the model:\n",
    "class NeuralNetwork(nn.Module):\n",
    "    def __init__(self):\n",
    "        super(NeuralNetwork, self).__init__()\n",
    "        self.linear1 = nn.Linear(28*28, 500)\n",
    "        self.linear2 = nn.Linear(500, 250)\n",
    "        self.linear3 = nn.Linear(250, 100)\n",
    "        self.linear4 = nn.Linear(100, 50)\n",
    "        self.output = nn.Linear(50, 10)\n",
    "        self.relu = nn.ReLU()\n",
    "        self.leaky_relu = nn.LeakyReLU()\n",
    "        self.softmax = nn.Softmax(dim=1)\n",
    "\n",
    "    def forward(self, img):\n",
    "        x = img.view(-1, 28*28)        #Flatten\n",
    "        x = self.leaky_relu(self.linear1(x))\n",
    "        x = self.leaky_relu(self.linear2(x))\n",
    "        x = self.leaky_relu(self.linear3(x))\n",
    "        x = self.leaky_relu(self.linear4(x))\n",
    "        x = self.softmax(self.output(x))\n",
    "        return x\n",
    "\n",
    "net = NeuralNetwork()"
   ]
  },
  {
   "cell_type": "code",
   "execution_count": 4,
   "id": "caaa02c9-3b40-4e6a-8878-94dd722574f6",
   "metadata": {},
   "outputs": [
    {
     "name": "stdout",
     "output_type": "stream",
     "text": [
      "NeuralNetwork(\n",
      "  (linear1): Linear(in_features=784, out_features=500, bias=True)\n",
      "  (linear2): Linear(in_features=500, out_features=250, bias=True)\n",
      "  (linear3): Linear(in_features=250, out_features=100, bias=True)\n",
      "  (linear4): Linear(in_features=100, out_features=50, bias=True)\n",
      "  (output): Linear(in_features=50, out_features=10, bias=True)\n",
      "  (relu): ReLU()\n",
      "  (leaky_relu): LeakyReLU(negative_slope=0.01)\n",
      "  (softmax): Softmax(dim=1)\n",
      ")\n"
     ]
    }
   ],
   "source": [
    "print(net)"
   ]
  },
  {
   "cell_type": "code",
   "execution_count": 5,
   "id": "2c76c0d6-8019-4932-9e2d-896f4d6d0983",
   "metadata": {},
   "outputs": [
    {
     "name": "stdout",
     "output_type": "stream",
     "text": [
      "Epoch 0 - Training loss: 1.7431171416044235\n",
      "Epoch 1 - Training loss: 1.5967948220968247\n",
      "Epoch 2 - Training loss: 1.5316435381968816\n",
      "Epoch 3 - Training loss: 1.5172169737815857\n",
      "Epoch 4 - Training loss: 1.5085923910538355\n",
      "Epoch 5 - Training loss: 1.5023129098415375\n",
      "Epoch 6 - Training loss: 1.4967240803639095\n",
      "Epoch 7 - Training loss: 1.4928961559931437\n",
      "Epoch 8 - Training loss: 1.489915624777476\n",
      "Epoch 9 - Training loss: 1.4864725031852721\n",
      "Epoch 10 - Training loss: 1.4843991171518962\n",
      "Epoch 11 - Training loss: 1.4822136080265045\n",
      "Epoch 12 - Training loss: 1.4807120616436005\n",
      "Epoch 13 - Training loss: 1.4798108610312144\n",
      "Epoch 14 - Training loss: 1.4785017931461335\n",
      "Epoch 15 - Training loss: 1.4773250442743302\n",
      "Epoch 16 - Training loss: 1.4765128037532171\n",
      "Epoch 17 - Training loss: 1.4751216820478439\n",
      "Epoch 18 - Training loss: 1.474598771095276\n",
      "Epoch 19 - Training loss: 1.4737612789471943\n",
      "Epoch 20 - Training loss: 1.4732336049079895\n",
      "Epoch 21 - Training loss: 1.4727791223923365\n",
      "Epoch 22 - Training loss: 1.4719655726353327\n",
      "Epoch 23 - Training loss: 1.471394039750099\n",
      "Epoch 24 - Training loss: 1.4712152661482494\n",
      "Epoch 25 - Training loss: 1.4706729245583217\n",
      "Epoch 26 - Training loss: 1.4702512225310007\n",
      "Epoch 27 - Training loss: 1.4699864042599995\n",
      "Epoch 28 - Training loss: 1.4693197153011959\n",
      "Epoch 29 - Training loss: 1.4694367036422094\n",
      "Epoch 30 - Training loss: 1.4690079041719437\n",
      "Epoch 31 - Training loss: 1.468706199169159\n",
      "Epoch 32 - Training loss: 1.4688435313304264\n",
      "Epoch 33 - Training loss: 1.4684510609308878\n",
      "Epoch 34 - Training loss: 1.4684942355950674\n",
      "Epoch 35 - Training loss: 1.4684315483967463\n",
      "Epoch 36 - Training loss: 1.4684966294765471\n",
      "Epoch 37 - Training loss: 1.468817969918251\n",
      "Epoch 38 - Training loss: 1.4678842119375866\n",
      "Epoch 39 - Training loss: 1.4682812334299087\n",
      "\n",
      "Training Time (in minutes) = 26.742677660783134\n"
     ]
    }
   ],
   "source": [
    "#Training the model:\n",
    "cross_loss = nn.CrossEntropyLoss()\n",
    "optimizer = optim.Adam(net.parameters(), lr=0.0001)\n",
    "time0 = time()\n",
    "epochs = 40\n",
    "training_loss = []\n",
    "\n",
    "for epoch in range(epochs):\n",
    "    step_loss = []\n",
    "    net.train()\n",
    "    running_loss = 0\n",
    "    for data in training_loader:\n",
    "        x, y = data\n",
    "        y_hot = ff.one_hot(y, num_classes=10) \n",
    "        optimizer.zero_grad()\n",
    "        output = net(x.view(-1, 28*28))\n",
    "        loss = cross_loss(output, y_hot.float())\n",
    "        loss.backward()\n",
    "        optimizer.step()\n",
    "        running_loss += loss.item()  \n",
    "        step_loss.append(loss.item())\n",
    "    else:\n",
    "        print(\"Epoch {} - Training loss: {}\".format(epoch, running_loss/len(training_loader)))\n",
    "        training_loss.append(np.array(step_loss).mean())\n",
    "print(\"\\nTraining Time (in minutes) =\",(time()-time0)/60)"
   ]
  },
  {
   "cell_type": "code",
   "execution_count": 6,
   "id": "7bfaa4ed-919d-424a-8796-9e8309d617b6",
   "metadata": {},
   "outputs": [],
   "source": [
    "#Testing the model:\n",
    "def test(model, test_loader):\n",
    "    model.eval()\n",
    "    test_loss = 0\n",
    "    correct = 0\n",
    "    time00 = time()\n",
    "    loss = nn.CrossEntropyLoss()\n",
    "    with torch.no_grad():\n",
    "        for data, target in test_loader:\n",
    "            output = model(data)\n",
    "            test_loss += loss(output, target).item()    #sum up batch loss\n",
    "            pred = output.argmax(1, keepdim=True)        #get the index of the max log-probability \n",
    "            correct += pred.eq(target.view_as(pred)).sum().item()\n",
    "\n",
    "    test_loss /= len(test_loader.dataset)\n",
    "\n",
    "    print('\\nTest set: Accuracy: {}/{} ({:.0f}%)\\n'.format(\n",
    "         correct, len(test_loader.dataset),\n",
    "        100. * correct / len(test_loader.dataset)))\n",
    "    print(\"\\nTesting Time (in seconds) =\",(time()-time00))"
   ]
  },
  {
   "cell_type": "code",
   "execution_count": 7,
   "id": "e0a7640c-5526-4d51-8d0a-02ef2d1df993",
   "metadata": {},
   "outputs": [
    {
     "name": "stdout",
     "output_type": "stream",
     "text": [
      "\n",
      "Test set: Accuracy: 9779/10000 (98%)\n",
      "\n",
      "\n",
      "Testing Time (in seconds) = 2.819671154022217\n"
     ]
    }
   ],
   "source": [
    "test(net, testing_loader)"
   ]
  },
  {
   "cell_type": "code",
   "execution_count": 9,
   "id": "846a3b48-94d3-4e76-a8db-b48e2e2adb2f",
   "metadata": {},
   "outputs": [
    {
     "data": {
      "text/plain": [
       "<function matplotlib.pyplot.show(close=None, block=None)>"
      ]
     },
     "execution_count": 9,
     "metadata": {},
     "output_type": "execute_result"
    },
    {
     "data": {
      "image/png": "[encoded data removed]",
      "text/plain": [
       "<Figure size 640x480 with 1 Axes>"
      ]
     },
     "metadata": {},
     "output_type": "display_data"
    }
   ],
   "source": [
    "#plotting:\n",
    "plt.plot(training_loss, label='training_loss', color='r')\n",
    "plt.xlabel('Epochs')\n",
    "plt.ylabel('Loss')\n",
    "plt.xlim(0, 40)\n",
    "plt.legend()\n",
    "plt.grid(True)\n",
    "plt.show"
   ]
  }
 ],
 "metadata": {
  "kernelspec": {
   "display_name": "Python 3 (ipykernel)",
   "language": "python",
   "name": "python3"
  },
  "language_info": {
   "codemirror_mode": {
    "name": "ipython",
    "version": 3
   },
   "file_extension": ".py",
   "mimetype": "text/x-python",
   "name": "python",
   "nbconvert_exporter": "python",
   "pygments_lexer": "ipython3",
   "version": "3.11.3"
  }
 },
 "nbformat": 4,
 "nbformat_minor": 5
}
